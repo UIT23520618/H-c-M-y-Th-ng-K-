{
  "nbformat": 4,
  "nbformat_minor": 0,
  "metadata": {
    "colab": {
      "provenance": []
    },
    "kernelspec": {
      "name": "python3",
      "display_name": "Python 3"
    },
    "language_info": {
      "name": "python"
    }
  },
  "cells": [
    {
      "cell_type": "markdown",
      "source": [
        "**Assignment 1**"
      ],
      "metadata": {
        "id": "ePM3zc-f-aR2"
      }
    },
    {
      "cell_type": "markdown",
      "source": [
        "1)Xử lý file dữ liệu"
      ],
      "metadata": {
        "id": "28_71U-R-G1n"
      }
    },
    {
      "cell_type": "code",
      "source": [
        "import pandas as pd\n",
        "\n",
        "\n",
        "df = pd.read_csv(\"/content/data.csv\", sep=\";\", encoding=\"utf-8\")\n",
        "#Tách ô với mỗi dấu\";\"\n",
        "\n",
        "df[\"Target\"] = df[\"Target\"].replace({\"Graduate\": 1, \"Dropout\": 0, \"Enrolled\": 0})\n",
        "#Chuyển kiểu dữ liệu cho cột Target,y\n",
        "\n",
        "\n",
        "\n",
        "df.to_csv(\"/content/cleaned_file.csv\", index=False, encoding=\"utf-8\")\n"
      ],
      "metadata": {
        "id": "4ndrC_hv-F3w",
        "outputId": "7bf80ec1-444e-45fe-e6f6-917496b0aec7",
        "colab": {
          "base_uri": "https://localhost:8080/"
        }
      },
      "execution_count": 94,
      "outputs": [
        {
          "output_type": "stream",
          "name": "stderr",
          "text": [
            "<ipython-input-94-7cd45c57e88e>:7: FutureWarning: Downcasting behavior in `replace` is deprecated and will be removed in a future version. To retain the old behavior, explicitly call `result.infer_objects(copy=False)`. To opt-in to the future behavior, set `pd.set_option('future.no_silent_downcasting', True)`\n",
            "  df[\"Target\"] = df[\"Target\"].replace({\"Graduate\": 1, \"Dropout\": 0, \"Enrolled\": 0})\n"
          ]
        }
      ]
    },
    {
      "cell_type": "markdown",
      "source": [
        "2) Hàm Logistics Regression"
      ],
      "metadata": {
        "id": "07eniaMehlxn"
      }
    },
    {
      "cell_type": "code",
      "execution_count": 95,
      "metadata": {
        "id": "jYKyd30PYGzI"
      },
      "outputs": [],
      "source": [
        "import numpy as np\n",
        "from sklearn.preprocessing import StandardScaler\n",
        "class LogisticRegression:\n",
        "    def __init__(self, learning_rate=0.01, num_iterations=1000):\n",
        "        self.learning_rate = learning_rate\n",
        "        self.num_iterations = num_iterations\n",
        "        self.weights = None\n",
        "        self.bias = None\n",
        "        self.losses = []  # Lưu lại các giá trị loss trong quá trình huấn luyện\n",
        "\n",
        "    def sigmoid(self, z):\n",
        "\n",
        "        return 1 / (1 + np.exp(-z))\n",
        "\n",
        "\n",
        "    def compute_cost(self, X, y):\n",
        "        m = len(y)\n",
        "        predictions = self.sigmoid(np.dot(X, self.weights) + self.bias)\n",
        "        cost = (-1 / m) * np.sum(y * np.log(predictions) + (1 - y) * np.log(1 - predictions))\n",
        "        return cost\n",
        "    def fit(self, X, y):\n",
        "        num_samples, num_features = X.shape\n",
        "        self.weights = np.zeros(num_features)  # Khởi tạo weights bằng 0\n",
        "        self.bias = 0  # Khởi tạo bias bằng 0\n",
        "\n",
        "        for _ in range(self.num_iterations):\n",
        "            linear_model = np.dot(X, self.weights) + self.bias  # Hàm tuyến tính\n",
        "\n",
        "            predictions = self.sigmoid(linear_model)  # Dự đoán với hàm sigmoid\n",
        "\n",
        "            # Tính toán gradient\n",
        "            dw = (1 / num_samples) * np.dot(X.T, (predictions - y))\n",
        "            db = (1 / num_samples) * np.sum(predictions - y)\n",
        "\n",
        "            # Cập nhật weights và bias\n",
        "            self.weights -= self.learning_rate * dw\n",
        "            self.bias -= self.learning_rate * db\n",
        "\n",
        "            # Tính chi phí và lưu lại\n",
        "            cost = self.compute_cost(X, y)\n",
        "            self.losses.append(cost)  # Lưu lại giá trị loss\n",
        "\n",
        "    def predict(self, X):\n",
        "        linear_model = np.dot(X, self.weights) + self.bias  # Hàm tuyến tính\n",
        "        y_predicted = self.sigmoid(linear_model)  # Dự đoán với hàm sigmoid\n",
        "        return (y_predicted > 0.5).astype(int)  # Trả về 0 hoặc 1\n",
        "\n",
        "    def accuracy(self, y_true, y_pred):\n",
        "        # Tính độ chính xác\n",
        "        return np.mean(y_true == y_pred)\n",
        "\n",
        "    def get_params(self):\n",
        "        # Trả về các tham số của mô hình\n",
        "        return {'learning_rate': self.learning_rate, 'num_iterations': self.num_iterations}\n"
      ]
    },
    {
      "cell_type": "markdown",
      "source": [
        "3) Train mô hình và hiển thị loss"
      ],
      "metadata": {
        "id": "Z8Ounh2j-Tl6"
      }
    },
    {
      "cell_type": "code",
      "source": [
        "import pandas as pd\n",
        "import matplotlib.pyplot as plt\n",
        "data =pd.read_csv('/content/cleaned_file.csv')\n",
        "\n",
        "\n",
        "\n",
        "data.head()\n",
        "X,y = data.iloc[:,:-1],data.iloc[:,-1]\n",
        "scaler = StandardScaler()\n",
        "X = scaler.fit_transform(X)\n",
        "\n",
        "model = LogisticRegression(learning_rate=0.01, num_iterations=1000)\n",
        "model.fit(X, y)\n",
        "y_pred = model.predict(X)\n",
        "accuracy = model.accuracy(y, y_pred)\n",
        "\n",
        "plt.plot(range(model.num_iterations), model.losses, label='Loss')\n",
        "plt.xlabel('Iterations')\n",
        "plt.ylabel('Loss')\n",
        "plt.title('Loss function during training')\n",
        "plt.legend()\n",
        "plt.show()\n"
      ],
      "metadata": {
        "colab": {
          "base_uri": "https://localhost:8080/",
          "height": 472
        },
        "id": "hh4ALD_Wl8Cm",
        "outputId": "eab6ee5d-4e73-4c09-bded-69fe677b2360"
      },
      "execution_count": 96,
      "outputs": [
        {
          "output_type": "display_data",
          "data": {
            "text/plain": [
              "<Figure size 640x480 with 1 Axes>"
            ],
            "image/png": "[encoded data removed]"
          },
          "metadata": {}
        }
      ]
    },
    {
      "cell_type": "markdown",
      "source": [
        "**Assignment 2**"
      ],
      "metadata": {
        "id": "gD7QnJYW-k2j"
      }
    },
    {
      "cell_type": "markdown",
      "source": [
        "Xử lí bộ dữ liệu"
      ],
      "metadata": {
        "id": "oWJfXHRaAiac"
      }
    },
    {
      "cell_type": "code",
      "source": [
        "import pandas as pd\n",
        "\n",
        "\n",
        "df = pd.read_csv(\"/content/data.csv\", sep=\";\", encoding=\"utf-8\")\n",
        "#Tách ô với mỗi dấu\";\"\n",
        "\n",
        "df[\"Target\"] = df[\"Target\"].replace({\"Graduate\": 1, \"Dropout\": 0, \"Enrolled\": 2})\n",
        "#Chuyển kiểu dữ liệu cho cột Target,y\n",
        "\n",
        "\n",
        "\n",
        "df.to_csv(\"/content/cleaned_file_softmax.csv\", index=False, encoding=\"utf-8\")\n"
      ],
      "metadata": {
        "id": "lKLJYkI2AjkC",
        "outputId": "cd15afa1-ba09-480f-9628-ba4c2583633a",
        "colab": {
          "base_uri": "https://localhost:8080/"
        }
      },
      "execution_count": 97,
      "outputs": [
        {
          "output_type": "stream",
          "name": "stderr",
          "text": [
            "<ipython-input-97-377241be82fa>:7: FutureWarning: Downcasting behavior in `replace` is deprecated and will be removed in a future version. To retain the old behavior, explicitly call `result.infer_objects(copy=False)`. To opt-in to the future behavior, set `pd.set_option('future.no_silent_downcasting', True)`\n",
            "  df[\"Target\"] = df[\"Target\"].replace({\"Graduate\": 1, \"Dropout\": 0, \"Enrolled\": 2})\n"
          ]
        }
      ]
    },
    {
      "cell_type": "markdown",
      "source": [
        "1) Softmax Regression"
      ],
      "metadata": {
        "id": "BFm3A8iq_drx"
      }
    },
    {
      "cell_type": "code",
      "source": [
        "class SoftmaxRegression:\n",
        "    def __init__(self, learning_rate=0.01, num_iterations=1000, num_classes=3):\n",
        "        self.learning_rate = learning_rate\n",
        "        self.num_iterations = num_iterations\n",
        "        self.num_classes = num_classes\n",
        "        self.weights = None\n",
        "        self.bias = None\n",
        "        self.losses = []\n",
        "\n",
        "    def softmax(self, z):\n",
        "        # Áo dụng softmax cho mỗi dòng\n",
        "        exp_z = np.exp(z - np.max(z, axis=1, keepdims=True))\n",
        "        return exp_z / np.sum(exp_z, axis=1, keepdims=True)\n",
        "\n",
        "    def compute_cost(self, predictions, y):\n",
        "        m = len(y)\n",
        "\n",
        "        y_one_hot = np.eye(self.num_classes)[y]\n",
        "        #  Dùng Cross-entropy loss\n",
        "        cost = (-1 / m) * np.sum(y_one_hot * np.log(predictions))\n",
        "        return cost\n",
        "\n",
        "    def fit(self, X, y):\n",
        "        num_samples, num_features = X.shape\n",
        "        self.weights = np.zeros((num_features, self.num_classes))\n",
        "        self.bias = np.zeros(self.num_classes)\n",
        "\n",
        "        for _ in range(self.num_iterations):\n",
        "            linear_model = np.dot(X, self.weights) + self.bias\n",
        "            predictions = self.softmax(linear_model)\n",
        "\n",
        "            # Gradient của hàm loss function\n",
        "            dw = (1 / num_samples) * np.dot(X.T, (predictions - np.eye(self.num_classes)[y]))\n",
        "            db = (1 / num_samples) * np.sum(predictions - np.eye(self.num_classes)[y], axis=0)\n",
        "\n",
        "            # Cập nhật weights và bias\n",
        "            self.weights -= self.learning_rate * dw\n",
        "            self.bias -= self.learning_rate * db\n",
        "\n",
        "            # Tính toán loss\n",
        "            cost = self.compute_cost(predictions, y)\n",
        "            self.losses.append(cost)\n",
        "\n",
        "    def predict(self, X):\n",
        "        linear_model = np.dot(X, self.weights) + self.bias\n",
        "        predictions = self.softmax(linear_model)\n",
        "        return np.argmax(predictions, axis=1)\n",
        "\n",
        "    def accuracy(self, y_true, y_pred):\n",
        "        return np.mean(y_true == y_pred)\n",
        "\n",
        "    def get_params(self):\n",
        "        return {'learning_rate': self.learning_rate, 'num_iterations': self.num_iterations}"
      ],
      "metadata": {
        "id": "MDTfYRUJ-sGZ"
      },
      "execution_count": 98,
      "outputs": []
    },
    {
      "cell_type": "markdown",
      "source": [
        "2) Train và hiển thị loss"
      ],
      "metadata": {
        "id": "BxbuKS1n_w6B"
      }
    },
    {
      "cell_type": "code",
      "source": [
        "import pandas as pd\n",
        "import matplotlib.pyplot as plt\n",
        "data =pd.read_csv('/content/cleaned_file_softmax.csv')\n",
        "\n",
        "\n",
        "\n",
        "data.head()\n",
        "X,y = data.iloc[:,:-1],data.iloc[:,-1]\n",
        "scaler = StandardScaler()\n",
        "X = scaler.fit_transform(X)\n",
        "\n",
        "\n",
        "model = SoftmaxRegression(learning_rate=0.01, num_iterations=1000,num_classes=3)\n",
        "model.fit(X, y)\n",
        "y_pred = model.predict(X)\n",
        "accuracy = model.accuracy(y, y_pred)\n",
        "\n",
        "plt.plot(range(model.num_iterations), model.losses, label='Loss')\n",
        "plt.xlabel('Iterations')\n",
        "plt.ylabel('Loss')\n",
        "plt.title('Loss function during training')\n",
        "plt.legend()\n",
        "plt.show()"
      ],
      "metadata": {
        "id": "bxlb4-7Q_2Fr",
        "outputId": "f47a27cd-36fc-4e1d-f669-8b4124f1b700",
        "colab": {
          "base_uri": "https://localhost:8080/",
          "height": 472
        }
      },
      "execution_count": 99,
      "outputs": [
        {
          "output_type": "display_data",
          "data": {
            "text/plain": [
              "<Figure size 640x480 with 1 Axes>"
            ],
            "image/png": "[encoded data removed]"
          },
          "metadata": {}
        }
      ]
    },
    {
      "cell_type": "markdown",
      "source": [
        "Assignment **3**"
      ],
      "metadata": {
        "id": "wOF1jLTQCfeB"
      }
    },
    {
      "cell_type": "markdown",
      "source": [
        "1) Logistics Regression dùng thư viện"
      ],
      "metadata": {
        "id": "FDGS9mKgCh55"
      }
    },
    {
      "cell_type": "code",
      "source": [
        "import pandas as pd\n",
        "from sklearn.model_selection import train_test_split\n",
        "from sklearn.preprocessing import StandardScaler\n",
        "from sklearn.linear_model import LogisticRegression\n",
        "from sklearn.metrics import accuracy_score, classification_report\n",
        "\n",
        "# Đọc dữ liệu\n",
        "df = pd.read_csv(\"/content/cleaned_file.csv\")\n",
        "\n",
        "# Chọn các đặc trưng (X) và nhãn (y)\n",
        "X = df.drop(columns=[\"Target\"])\n",
        "y = df[\"Target\"]\n",
        "\n",
        "# Chia dữ liệu thành bộ huấn luyện và bộ kiểm tra\n",
        "X_train, X_test, y_train, y_test = train_test_split(X, y, test_size=0.2, random_state=42)\n",
        "\n",
        "# Chuẩn hóa dữ liệu\n",
        "scaler = StandardScaler()\n",
        "X_train_scaled = scaler.fit_transform(X_train)\n",
        "X_test_scaled = scaler.transform(X_test)\n",
        "\n",
        "# Khởi tạo và huấn luyện mô hình logistic regression\n",
        "log_reg = LogisticRegression(max_iter=1000)\n",
        "log_reg.fit(X_train_scaled, y_train)\n",
        "\n",
        "# Dự đoán trên bộ kiểm tra\n",
        "y_pred = log_reg.predict(X_test_scaled)\n",
        "\n",
        "# Đánh giá mô hình\n",
        "accuracy = accuracy_score(y_test, y_pred)\n",
        "report = classification_report(y_test, y_pred)\n",
        "\n",
        "print(f\"Độ chính xác của Logistic Regression: {accuracy}\")\n",
        "print(f\"Báo cáo phân loại:\\n{report}\")\n"
      ],
      "metadata": {
        "id": "y07vbsaBCmQN",
        "outputId": "d104014b-5118-499c-d621-3c9858b6f772",
        "colab": {
          "base_uri": "https://localhost:8080/"
        }
      },
      "execution_count": 102,
      "outputs": [
        {
          "output_type": "stream",
          "name": "stdout",
          "text": [
            "Độ chính xác của Logistic Regression: 0.8282485875706215\n",
            "Báo cáo phân loại:\n",
            "              precision    recall  f1-score   support\n",
            "\n",
            "           0       0.88      0.78      0.83       467\n",
            "           1       0.78      0.88      0.83       418\n",
            "\n",
            "    accuracy                           0.83       885\n",
            "   macro avg       0.83      0.83      0.83       885\n",
            "weighted avg       0.83      0.83      0.83       885\n",
            "\n"
          ]
        }
      ]
    },
    {
      "cell_type": "markdown",
      "source": [
        "2) Softmax Regression dùng thư viện"
      ],
      "metadata": {
        "id": "FehVm3zuDdYJ"
      }
    },
    {
      "cell_type": "code",
      "source": [
        "from sklearn.linear_model import LogisticRegression\n",
        "\n",
        "# Cập nhật nhãn mục tiêu cho phân loại đa lớp\n",
        "df[\"Target\"] = df[\"Target\"].replace({1: 0, 0: 1})  # Cập nhật thành phân loại đa lớp (Tốt nghiệp=0, Bỏ học=1)\n",
        "\n",
        "# Chọn các đặc trưng (X) và nhãn (y) cho phân loại đa lớp\n",
        "X = df.drop(columns=[\"Target\"])\n",
        "y = df[\"Target\"]\n",
        "\n",
        "# Chia dữ liệu thành bộ huấn luyện và bộ kiểm tra\n",
        "X_train, X_test, y_train, y_test = train_test_split(X, y, test_size=0.2, random_state=42)\n",
        "\n",
        "# Chuẩn hóa dữ liệu\n",
        "scaler = StandardScaler()\n",
        "X_train_scaled = scaler.fit_transform(X_train)\n",
        "X_test_scaled = scaler.transform(X_test)\n",
        "\n",
        "# Khởi tạo và huấn luyện mô hình softmax regression (Multinomial Logistic Regression)\n",
        "softmax_reg = LogisticRegression(multi_class='multinomial', solver='lbfgs', max_iter=1000)\n",
        "softmax_reg.fit(X_train_scaled, y_train)\n",
        "\n",
        "# Dự đoán trên bộ kiểm tra\n",
        "y_pred = softmax_reg.predict(X_test_scaled)\n",
        "\n",
        "# Đánh giá mô hình\n",
        "accuracy = accuracy_score(y_test, y_pred)\n",
        "report = classification_report(y_test, y_pred)\n",
        "\n",
        "print(f\"Độ chính xác của Softmax Regression: {accuracy}\")\n",
        "print(f\"Báo cáo phân loại:\\n{report}\")\n"
      ],
      "metadata": {
        "id": "ydCsS2dbDkBT",
        "outputId": "a5d3ce66-2a37-410c-aeee-660559f394df",
        "colab": {
          "base_uri": "https://localhost:8080/"
        }
      },
      "execution_count": 103,
      "outputs": [
        {
          "output_type": "stream",
          "name": "stdout",
          "text": [
            "Độ chính xác của Softmax Regression: 0.8293785310734463\n",
            "Báo cáo phân loại:\n",
            "              precision    recall  f1-score   support\n",
            "\n",
            "           0       0.78      0.88      0.83       418\n",
            "           1       0.88      0.78      0.83       467\n",
            "\n",
            "    accuracy                           0.83       885\n",
            "   macro avg       0.83      0.83      0.83       885\n",
            "weighted avg       0.83      0.83      0.83       885\n",
            "\n"
          ]
        },
        {
          "output_type": "stream",
          "name": "stderr",
          "text": [
            "/usr/local/lib/python3.11/dist-packages/sklearn/linear_model/_logistic.py:1237: FutureWarning: 'multi_class' was deprecated in version 1.5 and will be removed in 1.7. From then on, binary problems will be fit as proper binary  logistic regression models (as if multi_class='ovr' were set). Leave it to its default value to avoid this warning.\n",
            "  warnings.warn(\n"
          ]
        }
      ]
    }
  ]
}